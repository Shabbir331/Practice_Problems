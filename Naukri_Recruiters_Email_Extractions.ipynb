{
 "cells": [
  {
   "cell_type": "code",
   "execution_count": null,
   "metadata": {},
   "outputs": [],
   "source": [
    "from selenium import webdriver\n",
    "import time \n",
    "from selenium.webdriver.common.action_chains import ActionChains\n",
    "from selenium.webdriver.common.by import By\n",
    "from selenium.webdriver.support.wait import WebDriverWait\n",
    "from selenium.webdriver.common.keys import Keys\n",
    "from selenium.webdriver.common.desired_capabilities import DesiredCapabilities\n",
    "driver = webdriver.Chrome(executable_path=r'chromedriver.exe')\n",
    "driver.get('https://www.naukri.com/nlogin/logout')\n",
    "time.sleep(10)\n",
    "# Username & Password\n",
    "driver.find_element(By.ID, \"usernameField\").send_keys(\"shabbiranaswala@gmail.com\")\n",
    "driver.find_element(By.ID, \"passwordField\").send_keys(\"samina331\")\n",
    "driver.find_element(By.ID, \"usernameField\").click()\n",
    "driver.find_element(By.CSS_SELECTOR, \".waves-effect\").click()\n",
    "time.sleep(5)\n",
    "driver.get('https://www.naukri.com/mnjuser/inbox')\n",
    "time.sleep(10)\n",
    "# driver.find_element(By.LINK_TEXT, \"APPLY\").click()\n",
    "driver.find_element(By.CSS_SELECTOR, \".row:nth-child(2) .txt > .fs15\").click()\n",
    "time.sleep(5)\n",
    "html_source = driver.page_source"
   ]
  },
  {
   "cell_type": "code",
   "execution_count": null,
   "metadata": {},
   "outputs": [],
   "source": [
    "emails=[]\n",
    "from bs4 import BeautifulSoup\n",
    "for i in range(1,100):    \n",
    "        driver.find_element(By.CSS_SELECTOR, \".inbox-list\").click()\n",
    "        time.sleep(3)\n",
    "        element = driver.find_element(By.CSS_SELECTOR, \".row:nth-child(\"+str(i)+\") > .col > .blue-text\")\n",
    "        actions = ActionChains(driver)\n",
    "        actions.move_to_element(element).click_and_hold().perform()\n",
    "        time.sleep(3)\n",
    "        html_source = driver.page_source\n",
    "        soup =BeautifulSoup(html_source,'lxml')\n",
    "        for link in soup.find_all('a')[110:111]:     \n",
    "            if \"@\" in link.get_text('href'):\n",
    "                emails.append(link.get_text('href'))\n",
    "                print(i,link.get_text('href'))"
   ]
  },
  {
   "cell_type": "code",
   "execution_count": null,
   "metadata": {},
   "outputs": [],
   "source": [
    "import pandas as pd\n",
    "pd.set_option('display.max_columns', None)  \n",
    "pd.set_option('display.max_rows', None)\n",
    "pd.set_option('display.width', 2000)\n",
    "pd.DataFrame(list(set(emails)))"
   ]
  }
 ],
 "metadata": {
  "kernelspec": {
   "display_name": "Python 3",
   "language": "python",
   "name": "python3"
  },
  "language_info": {
   "codemirror_mode": {
    "name": "ipython",
    "version": 3
   },
   "file_extension": ".py",
   "mimetype": "text/x-python",
   "name": "python",
   "nbconvert_exporter": "python",
   "pygments_lexer": "ipython3",
   "version": "3.7.3"
  }
 },
 "nbformat": 4,
 "nbformat_minor": 2
}
