{
 "cells": [
  {
   "cell_type": "code",
   "execution_count": 17,
   "metadata": {},
   "outputs": [],
   "source": [
    "# Adding new Sheet with data in existing Excel\n",
    "import pandas\n",
    "from openpyxl import load_workbook\n",
    "#from xlsxwriter import load_workbook\n",
    "df_Glossary=pandas.read_excel(r'C:\\Users\\shabbir.anaswala\\Downloads\\NPI_Files\\POLARISnpi.xlsx',sheet_name=\"Glossary\")\n",
    "\n",
    "book = load_workbook(r'C:\\Users\\shabbir.anaswala\\Downloads\\NPI_Files\\Sample.xlsx')\n",
    "writer = pandas.ExcelWriter(r'C:\\Users\\shabbir.anaswala\\Downloads\\NPI_Files\\Test.xlsx', engine='openpyxl') \n",
    "writer.book = book\n",
    "writer.sheets = dict((ws.title, ws) for ws in book.worksheets)\n",
    "df_Glossary.to_excel(writer, \"Glossary\",index =False)\n",
    "\n",
    "writer.save()"
   ]
  },
  {
   "cell_type": "code",
   "execution_count": 25,
   "metadata": {},
   "outputs": [
    {
     "ename": "AttributeError",
     "evalue": "'Workbook' object has no attribute 'add_worksheet'",
     "output_type": "error",
     "traceback": [
      "\u001b[1;31m---------------------------------------------------------------------------\u001b[0m",
      "\u001b[1;31mAttributeError\u001b[0m                            Traceback (most recent call last)",
      "\u001b[1;32m<ipython-input-25-e71c8f746ada>\u001b[0m in \u001b[0;36m<module>\u001b[1;34m()\u001b[0m\n\u001b[0;32m     10\u001b[0m \u001b[0mfilename1\u001b[0m \u001b[1;33m=\u001b[0m\u001b[1;34mr'C:\\Users\\shabbir.anaswala\\Downloads\\NPI_Files\\Test.xlsx'\u001b[0m\u001b[1;33m\u001b[0m\u001b[0m\n\u001b[0;32m     11\u001b[0m \u001b[0mwb2\u001b[0m \u001b[1;33m=\u001b[0m \u001b[0mxl\u001b[0m\u001b[1;33m.\u001b[0m\u001b[0mload_workbook\u001b[0m\u001b[1;33m(\u001b[0m\u001b[0mfilename1\u001b[0m\u001b[1;33m)\u001b[0m\u001b[1;33m\u001b[0m\u001b[0m\n\u001b[1;32m---> 12\u001b[1;33m \u001b[0mwb2\u001b[0m \u001b[1;33m=\u001b[0m \u001b[0mwb2\u001b[0m\u001b[1;33m.\u001b[0m\u001b[0madd_worksheet\u001b[0m\u001b[1;33m(\u001b[0m\u001b[1;33m)\u001b[0m\u001b[1;33m\u001b[0m\u001b[0m\n\u001b[0m\u001b[0;32m     13\u001b[0m \u001b[0mws2\u001b[0m \u001b[1;33m=\u001b[0m \u001b[0mwb2\u001b[0m\u001b[1;33m.\u001b[0m\u001b[0mactive\u001b[0m\u001b[1;33m\u001b[0m\u001b[0m\n\u001b[0;32m     14\u001b[0m \u001b[1;33m\u001b[0m\u001b[0m\n",
      "\u001b[1;31mAttributeError\u001b[0m: 'Workbook' object has no attribute 'add_worksheet'"
     ]
    }
   ],
   "source": [
    "# importing openpyxl module \n",
    "import openpyxl as xl; \n",
    "  \n",
    "# opening the source excel file \n",
    "filename =r'C:\\Users\\shabbir.anaswala\\Downloads\\NPI_Files\\Sample.xlsx'\n",
    "wb1 = xl.load_workbook(filename) \n",
    "ws1 = wb1.worksheets[0] \n",
    "  \n",
    "# opening the destination excel file  \n",
    "filename1 =r'C:\\Users\\shabbir.anaswala\\Downloads\\NPI_Files\\Test.xlsx'\n",
    "wb2 = xl.load_workbook(filename1)\n",
    "wb2 = \n",
    "ws2 = wb2.active \n",
    "  \n",
    "# calculate total number of rows and  \n",
    "# columns in source excel file \n",
    "mr = ws1.max_row \n",
    "mc = ws1.max_column \n",
    "print(mr,mc)\n",
    "# copying the cell values from source  \n",
    "# excel file to destination excel file \n",
    "for i in range (1, mr + 1): \n",
    "    for j in range (1, mc + 1): \n",
    "        # reading cell value from source excel file \n",
    "        c = ws1.cell(row = i, column = j) \n",
    "        print(c)\n",
    "        # writing the read value to destination excel file \n",
    "        ws2.cell(row = i, column = j).value = c.value \n",
    "  \n",
    "# saving the destination excel file \n",
    "wb2.save(str(filename1)) "
   ]
  },
  {
   "cell_type": "code",
   "execution_count": 68,
   "metadata": {},
   "outputs": [
    {
     "name": "stderr",
     "output_type": "stream",
     "text": [
      "Exception ignored in: <bound method Workbook.__del__ of <xlsxwriter.workbook.Workbook object at 0x000000D98D025080>>\n",
      "Traceback (most recent call last):\n",
      "  File \"C:\\ProgramData\\Anaconda3\\lib\\site-packages\\xlsxwriter\\workbook.py\", line 153, in __del__\n",
      "    raise Exception(\"Exception caught in workbook destructor. \"\n",
      "Exception: Exception caught in workbook destructor. Explicit close() may be required for workbook.\n"
     ]
    }
   ],
   "source": [
    "# Reading Image from Excel\n",
    "from PIL import ImageGrab\n",
    "import win32com.client as win32\n",
    "excel = win32.gencache.EnsureDispatch('Excel.Application')\n",
    "workbook = excel.Workbooks.Open(r'C:\\Users\\shabbir.anaswala\\Downloads\\NPI_Files\\Sample.xlsx')\n",
    "for sheet in workbook.Worksheets:\n",
    "    for i, shape in enumerate(sheet.Shapes):\n",
    "        if shape.Name.startswith('Shape'):\n",
    "            shape.Copy()\n",
    "\n",
    "            image = ImageGrab.grabclipboard()\n",
    "            image.show()\n",
    "            image.save('{}.jpg'.format(i+1), 'jpeg')"
   ]
  },
  {
   "cell_type": "code",
   "execution_count": 67,
   "metadata": {},
   "outputs": [
    {
     "name": "stderr",
     "output_type": "stream",
     "text": [
      "C:\\ProgramData\\Anaconda3\\lib\\site-packages\\xlsxwriter\\worksheet.py:1046: UserWarning: Image file '2.jpg' not found.\n",
      "  warn(\"Image file '%s' not found.\" % force_unicode(filename))\n"
     ]
    }
   ],
   "source": [
    "#Inserting Images In Excel\n",
    "import xlsxwriter\n",
    "\n",
    "# Create an new Excel file and add a worksheet.\n",
    "workbook = xlsxwriter(r'C:\\Users\\shabbir.anaswala\\Downloads\\NPI_Files\\Sample.xlsx')\n",
    "worksheet = workbook.add_worksheet()\n",
    "\n",
    "# Widen the first column to make the text clearer.\n",
    "worksheet.set_column('A:A', 30)\n",
    "\n",
    "# Insert an image.\n",
    "worksheet.insert_image('A1', '2.jpg')\n",
    "worksheet.hide_gridlines(2)\n",
    "# # Insert an image offset in the cell.\n",
    "# worksheet.write('A12', 'Insert an image with an offset:')\n",
    "# worksheet.insert_image('B12', 'python.png', {'x_offset': 15, 'y_offset': 10})\n",
    "\n",
    "# # Insert an image with scaling.\n",
    "# worksheet.write('A23', 'Insert a scaled image:')\n",
    "# worksheet.insert_image('B23', 'python.png', {'x_scale': 0.5, 'y_scale': 0.5})\n",
    "\n",
    "# workbook.close()"
   ]
  }
 ],
 "metadata": {
  "kernelspec": {
   "display_name": "Python 3",
   "language": "python",
   "name": "python3"
  },
  "language_info": {
   "codemirror_mode": {
    "name": "ipython",
    "version": 3
   },
   "file_extension": ".py",
   "mimetype": "text/x-python",
   "name": "python",
   "nbconvert_exporter": "python",
   "pygments_lexer": "ipython3",
   "version": "3.6.4"
  }
 },
 "nbformat": 4,
 "nbformat_minor": 2
}
