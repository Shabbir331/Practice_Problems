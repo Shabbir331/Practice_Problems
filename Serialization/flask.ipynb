{
 "cells": [
  {
   "cell_type": "code",
   "execution_count": 21,
   "metadata": {},
   "outputs": [],
   "source": [
    "l=[\"wow... all i wanted to do is see taylor swift but of course shes sold out! \",\n",
    "\"Wrote exactly three lines of dialogue tonight, then gave up. \",\n",
    "\"WTF Not Kutner!  Oh I'm so pissed @ House.  I mean really WTF\",\n",
    "  \" I cheer myself up when I'm down by listening to my playlist called, Genius: Ballads and Cellos. I love my iPod and my taste of music.\",\n",
    "\" just watched the movie Wanted... it was pretty darn good.\"\n",
    "\" now I'm happy \",\n",
    "\"--plotting like i'm mike..'game plan:pass the ball to lebron AT ALL TIMES and DONT FOUL'..certainly we'll win  haha..go cavs goooo!\",\n",
    "\"@ mcdonalds with my litto sis aka cuzin lol cristyyyyy \",\n",
    "\"@ PBnJen : Thanks for the great tour and making me even more excited to work in PR!  You Rock and so does S\",\n",
    "\"@_Chelsea_Marie does target ship things to london? thanks so much! im such a demi fan shes amazing! \"]"
   ]
  },
  {
   "cell_type": "code",
   "execution_count": 6,
   "metadata": {},
   "outputs": [],
   "source": [
    "l=[\"I Love Montains\"]"
   ]
  },
  {
   "cell_type": "code",
   "execution_count": 7,
   "metadata": {},
   "outputs": [
    {
     "name": "stdout",
     "output_type": "stream",
     "text": [
      "[\"Text:['I Love Montains']\", 'class:[1]']\n"
     ]
    }
   ],
   "source": [
    "import requests \n",
    "url = \"http://127.0.0.1:8081/api\"\n",
    "r= requests.post(url, json ={\"x\" : l})\n",
    "print(r.json())"
   ]
  }
 ],
 "metadata": {
  "kernelspec": {
   "display_name": "Python 3",
   "language": "python",
   "name": "python3"
  },
  "language_info": {
   "codemirror_mode": {
    "name": "ipython",
    "version": 3
   },
   "file_extension": ".py",
   "mimetype": "text/x-python",
   "name": "python",
   "nbconvert_exporter": "python",
   "pygments_lexer": "ipython3",
   "version": "3.7.3"
  }
 },
 "nbformat": 4,
 "nbformat_minor": 2
}
