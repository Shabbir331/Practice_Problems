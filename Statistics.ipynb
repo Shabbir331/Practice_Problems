{
 "cells": [
  {
   "cell_type": "code",
   "execution_count": 75,
   "metadata": {},
   "outputs": [
    {
     "data": {
      "text/plain": [
       "<Container object of 11 artists>"
      ]
     },
     "execution_count": 75,
     "metadata": {},
     "output_type": "execute_result"
    },
    {
     "data": {
      "image/png": "[encoded data removed]",
      "text/plain": [
       "<matplotlib.figure.Figure at 0x1a7a518ac8>"
      ]
     },
     "metadata": {},
     "output_type": "display_data"
    }
   ],
   "source": [
    "from scipy.stats import binom\n",
    "import numpy as np\n",
    "import seaborn as sb\n",
    "import matplotlib.pyplot as plt\n",
    "toss=np.round(binom.pmf(range(11),10,.5,False)*100)\n",
    "plt.bar(range(11),toss)\n",
    "\n",
    "\n",
    "# ax = sb.distplot(range(11),toss,\n",
    "#                   kde=True,\n",
    "#                   color='blue',\n",
    "#                   hist_kws={\"linewidth\": 25,'alpha':1})"
   ]
  },
  {
   "cell_type": "code",
   "execution_count": 6,
   "metadata": {},
   "outputs": [
    {
     "name": "stdout",
     "output_type": "stream",
     "text": [
      "0.0015568929719846484\n"
     ]
    }
   ],
   "source": [
    "from scipy.stats import nbinom\n",
    "import numpy as np\n",
    "import seaborn as sb\n",
    "import matplotlib.pyplot as plt\n",
    "neg_binom=(nbinom.pmf(70,30,.2,False))\n",
    "print(neg_binom)"
   ]
  },
  {
   "cell_type": "markdown",
   "metadata": {},
   "source": [
    "### Geometric Distribution"
   ]
  },
  {
   "cell_type": "markdown",
   "metadata": {},
   "source": [
    "Geometric Distribution is used only when we are interested in probablity of first success"
   ]
  },
  {
   "cell_type": "code",
   "execution_count": 12,
   "metadata": {},
   "outputs": [
    {
     "name": "stdout",
     "output_type": "stream",
     "text": [
      "The probablity that a QC Inspector will find defect in first trail is 0.36 %\n"
     ]
    }
   ],
   "source": [
    "#Suppose there is a defect rate of 2% with some mechanical component being produced. \n",
    "#What is the probablity that a QC Inspector will need to review most 20 Items before \n",
    "#finding a defect?\n",
    "\n",
    "from scipy.stats import nbinom\n",
    "import numpy as np\n",
    "Geo_binom=(nbinom.pmf(19,1,.2,True))\n",
    "print(\"The probablity that a QC Inspector will find defect in first trail is\", np.round(Geo_binom * 100,2),\"%\")"
   ]
  },
  {
   "cell_type": "markdown",
   "metadata": {},
   "source": [
    "### Poisson Distribution"
   ]
  },
  {
   "cell_type": "raw",
   "metadata": {},
   "source": [
    "Poisson Distribution used to model a number of events occured in given time frame.\n",
    "eg  Number of insurance claims in a month\n",
    "    Diseases Spread in a day\n",
    "    Number of telephone calls in a hour"
   ]
  },
  {
   "cell_type": "markdown",
   "metadata": {},
   "source": [
    "Conditions applied:-\n",
    "\n",
    "Events have to be counted as whole number\n",
    "\n",
    "Events are independent: so if one event occurs, it does not impact \n",
    "the chances of the second event occuring\n",
    "\n",
    "Average frequency of occurence for the given time period is known\n",
    "\n",
    "Number of events that have already occured can be counted"
   ]
  },
  {
   "cell_type": "code",
   "execution_count": 81,
   "metadata": {},
   "outputs": [
    {
     "name": "stdout",
     "output_type": "stream",
     "text": [
      "0.25602023954628295\n"
     ]
    }
   ],
   "source": [
    "# Call center management\n",
    "\n",
    "from scipy.stats.distributions import poisson\n",
    "# Prob of seeing >=8 calls an hour when avg = 6\n",
    "\n",
    "p=1-poisson.cdf(7,6)\n",
    "print (p)"
   ]
  },
  {
   "cell_type": "code",
   "execution_count": 84,
   "metadata": {},
   "outputs": [
    {
     "name": "stdout",
     "output_type": "stream",
     "text": [
      "10% chance of having more than 80 withdrwal [47.03 26.55 12.14 10.12  8.36  4.46] %\n"
     ]
    }
   ],
   "source": [
    "# ATM Machine  KRA {Key Result Area}\n",
    "from scipy.stats.distributions import poisson\n",
    "import numpy as np\n",
    "p=1-poisson.cdf([80,85,90,91,92,95],80)\n",
    "print (\"10% chance of having more than 80 withdrwal\",np.round(p*100,2),\"%\")"
   ]
  },
  {
   "cell_type": "markdown",
   "metadata": {},
   "source": [
    "### Normal Distribution"
   ]
  },
  {
   "cell_type": "markdown",
   "metadata": {},
   "source": [
    "Symmetric about mean\n",
    "\n",
    "Mean=Mode= Median\n",
    "\n",
    "The two tails extended indefinitely and never touch the axis"
   ]
  },
  {
   "cell_type": "code",
   "execution_count": 88,
   "metadata": {},
   "outputs": [
    {
     "name": "stdout",
     "output_type": "stream",
     "text": [
      "0.15865525393145707\n"
     ]
    }
   ],
   "source": [
    "from scipy.stats import norm\n",
    "p=1-norm.cdf(115,108,7)\n",
    "print(p)"
   ]
  },
  {
   "cell_type": "markdown",
   "metadata": {},
   "source": [
    "### Standarad Normal distribution"
   ]
  },
  {
   "cell_type": "code",
   "execution_count": 91,
   "metadata": {},
   "outputs": [
    {
     "name": "stdout",
     "output_type": "stream",
     "text": [
      "0.15865525393145707\n"
     ]
    }
   ],
   "source": [
    "from scipy.stats import norm\n",
    "test=[]\n",
    "p=1-norm.cdf(115,108,7)\n",
    "print(p)"
   ]
  },
  {
   "cell_type": "code",
   "execution_count": 93,
   "metadata": {},
   "outputs": [
    {
     "name": "stdout",
     "output_type": "stream",
     "text": [
      "0.4459630095738113\n"
     ]
    }
   ],
   "source": [
    "from scipy.stats.distributions import poisson\n",
    "import numpy as np\n",
    "p=1-poisson.cdf(151,150)\n",
    "print(p)"
   ]
  }
 ],
 "metadata": {
  "kernelspec": {
   "display_name": "Python 3",
   "language": "python",
   "name": "python3"
  },
  "language_info": {
   "codemirror_mode": {
    "name": "ipython",
    "version": 3
   },
   "file_extension": ".py",
   "mimetype": "text/x-python",
   "name": "python",
   "nbconvert_exporter": "python",
   "pygments_lexer": "ipython3",
   "version": "3.6.4"
  }
 },
 "nbformat": 4,
 "nbformat_minor": 2
}
